{
 "cells": [
  {
   "cell_type": "code",
   "execution_count": 1,
   "id": "02e8ff2b-268d-4dbf-975e-7b50d24c624b",
   "metadata": {
    "tags": []
   },
   "outputs": [],
   "source": [
    "import pandas as pd"
   ]
  },
  {
   "cell_type": "code",
   "execution_count": null,
   "id": "efb5ce76-c8af-4b90-aa9b-b618948079bc",
   "metadata": {},
   "outputs": [],
   "source": [
    "Answer A:"
   ]
  },
  {
   "cell_type": "code",
   "execution_count": 2,
   "id": "6b8b5a11-09c9-4a3e-a259-692705ba71d6",
   "metadata": {
    "tags": []
   },
   "outputs": [],
   "source": [
    "df=pd.read_csv('Olympics.csv')"
   ]
  },
  {
   "cell_type": "code",
   "execution_count": 3,
   "id": "a0dc96ef-e720-4b07-8097-aa5f4c4591f1",
   "metadata": {
    "tags": []
   },
   "outputs": [
    {
     "data": {
      "text/html": [
       "<div>\n",
       "<style scoped>\n",
       "    .dataframe tbody tr th:only-of-type {\n",
       "        vertical-align: middle;\n",
       "    }\n",
       "\n",
       "    .dataframe tbody tr th {\n",
       "        vertical-align: top;\n",
       "    }\n",
       "\n",
       "    .dataframe thead th {\n",
       "        text-align: right;\n",
       "    }\n",
       "</style>\n",
       "<table border=\"1\" class=\"dataframe\">\n",
       "  <thead>\n",
       "    <tr style=\"text-align: right;\">\n",
       "      <th></th>\n",
       "      <th>id</th>\n",
       "      <th>name</th>\n",
       "      <th>sex</th>\n",
       "      <th>age</th>\n",
       "      <th>height</th>\n",
       "      <th>weight</th>\n",
       "      <th>team</th>\n",
       "      <th>noc</th>\n",
       "      <th>games</th>\n",
       "      <th>year</th>\n",
       "      <th>season</th>\n",
       "      <th>city</th>\n",
       "      <th>sport</th>\n",
       "      <th>event</th>\n",
       "      <th>medal</th>\n",
       "    </tr>\n",
       "  </thead>\n",
       "  <tbody>\n",
       "    <tr>\n",
       "      <th>0</th>\n",
       "      <td>1</td>\n",
       "      <td>A Dijiang</td>\n",
       "      <td>M</td>\n",
       "      <td>24</td>\n",
       "      <td>180.0</td>\n",
       "      <td>80.0</td>\n",
       "      <td>China</td>\n",
       "      <td>CHN</td>\n",
       "      <td>1992 Summer</td>\n",
       "      <td>1992</td>\n",
       "      <td>Summer</td>\n",
       "      <td>Barcelona</td>\n",
       "      <td>Basketball</td>\n",
       "      <td>Basketball Men's Basketball</td>\n",
       "      <td>NaN</td>\n",
       "    </tr>\n",
       "    <tr>\n",
       "      <th>1</th>\n",
       "      <td>2</td>\n",
       "      <td>A Lamusi</td>\n",
       "      <td>M</td>\n",
       "      <td>23</td>\n",
       "      <td>170.0</td>\n",
       "      <td>60.0</td>\n",
       "      <td>China</td>\n",
       "      <td>CHN</td>\n",
       "      <td>2012 Summer</td>\n",
       "      <td>2012</td>\n",
       "      <td>Summer</td>\n",
       "      <td>London</td>\n",
       "      <td>Judo</td>\n",
       "      <td>Judo Men's Extra-Lightweight</td>\n",
       "      <td>NaN</td>\n",
       "    </tr>\n",
       "    <tr>\n",
       "      <th>2</th>\n",
       "      <td>3</td>\n",
       "      <td>Gunnar Nielsen Aaby</td>\n",
       "      <td>M</td>\n",
       "      <td>24</td>\n",
       "      <td>NaN</td>\n",
       "      <td>NaN</td>\n",
       "      <td>Denmark</td>\n",
       "      <td>DEN</td>\n",
       "      <td>1920 Summer</td>\n",
       "      <td>1920</td>\n",
       "      <td>Summer</td>\n",
       "      <td>Antwerpen</td>\n",
       "      <td>Football</td>\n",
       "      <td>Football Men's Football</td>\n",
       "      <td>NaN</td>\n",
       "    </tr>\n",
       "    <tr>\n",
       "      <th>3</th>\n",
       "      <td>4</td>\n",
       "      <td>Edgar Lindenau Aabye</td>\n",
       "      <td>M</td>\n",
       "      <td>34</td>\n",
       "      <td>NaN</td>\n",
       "      <td>NaN</td>\n",
       "      <td>Denmark/Sweden</td>\n",
       "      <td>DEN</td>\n",
       "      <td>1900 Summer</td>\n",
       "      <td>1900</td>\n",
       "      <td>Summer</td>\n",
       "      <td>Paris</td>\n",
       "      <td>Tug-Of-War</td>\n",
       "      <td>Tug-Of-War Men's Tug-Of-War</td>\n",
       "      <td>Gold</td>\n",
       "    </tr>\n",
       "    <tr>\n",
       "      <th>4</th>\n",
       "      <td>5</td>\n",
       "      <td>Christine Jacoba Aaftink</td>\n",
       "      <td>F</td>\n",
       "      <td>21</td>\n",
       "      <td>185.0</td>\n",
       "      <td>82.0</td>\n",
       "      <td>Netherlands</td>\n",
       "      <td>NED</td>\n",
       "      <td>1988 Winter</td>\n",
       "      <td>1988</td>\n",
       "      <td>Winter</td>\n",
       "      <td>Calgary</td>\n",
       "      <td>Speed Skating</td>\n",
       "      <td>Speed Skating Women's 500 metres</td>\n",
       "      <td>NaN</td>\n",
       "    </tr>\n",
       "  </tbody>\n",
       "</table>\n",
       "</div>"
      ],
      "text/plain": [
       "   id                      name sex  age  height  weight            team  noc  \\\n",
       "0   1                 A Dijiang   M   24   180.0    80.0           China  CHN   \n",
       "1   2                  A Lamusi   M   23   170.0    60.0           China  CHN   \n",
       "2   3       Gunnar Nielsen Aaby   M   24     NaN     NaN         Denmark  DEN   \n",
       "3   4      Edgar Lindenau Aabye   M   34     NaN     NaN  Denmark/Sweden  DEN   \n",
       "4   5  Christine Jacoba Aaftink   F   21   185.0    82.0     Netherlands  NED   \n",
       "\n",
       "         games  year  season       city          sport  \\\n",
       "0  1992 Summer  1992  Summer  Barcelona     Basketball   \n",
       "1  2012 Summer  2012  Summer     London           Judo   \n",
       "2  1920 Summer  1920  Summer  Antwerpen       Football   \n",
       "3  1900 Summer  1900  Summer      Paris     Tug-Of-War   \n",
       "4  1988 Winter  1988  Winter    Calgary  Speed Skating   \n",
       "\n",
       "                              event medal  \n",
       "0       Basketball Men's Basketball   NaN  \n",
       "1      Judo Men's Extra-Lightweight   NaN  \n",
       "2           Football Men's Football   NaN  \n",
       "3       Tug-Of-War Men's Tug-Of-War  Gold  \n",
       "4  Speed Skating Women's 500 metres   NaN  "
      ]
     },
     "execution_count": 3,
     "metadata": {},
     "output_type": "execute_result"
    }
   ],
   "source": [
    "df.head()"
   ]
  },
  {
   "cell_type": "code",
   "execution_count": null,
   "id": "a9ff796b-a5ae-4ee2-bf99-f86a94d8cdcc",
   "metadata": {},
   "outputs": [],
   "source": [
    "Answer B:"
   ]
  },
  {
   "cell_type": "code",
   "execution_count": 7,
   "id": "e0cf0242-9125-4ca2-a3e8-ecd44d7f3413",
   "metadata": {
    "tags": []
   },
   "outputs": [
    {
     "data": {
      "text/html": [
       "<div>\n",
       "<style scoped>\n",
       "    .dataframe tbody tr th:only-of-type {\n",
       "        vertical-align: middle;\n",
       "    }\n",
       "\n",
       "    .dataframe tbody tr th {\n",
       "        vertical-align: top;\n",
       "    }\n",
       "\n",
       "    .dataframe thead th {\n",
       "        text-align: right;\n",
       "    }\n",
       "</style>\n",
       "<table border=\"1\" class=\"dataframe\">\n",
       "  <thead>\n",
       "    <tr style=\"text-align: right;\">\n",
       "      <th></th>\n",
       "      <th>name</th>\n",
       "      <th>medal</th>\n",
       "    </tr>\n",
       "  </thead>\n",
       "  <tbody>\n",
       "    <tr>\n",
       "      <th>0</th>\n",
       "      <td>A Dijiang</td>\n",
       "      <td>NaN</td>\n",
       "    </tr>\n",
       "    <tr>\n",
       "      <th>1</th>\n",
       "      <td>A Lamusi</td>\n",
       "      <td>NaN</td>\n",
       "    </tr>\n",
       "    <tr>\n",
       "      <th>2</th>\n",
       "      <td>Gunnar Nielsen Aaby</td>\n",
       "      <td>NaN</td>\n",
       "    </tr>\n",
       "    <tr>\n",
       "      <th>3</th>\n",
       "      <td>Edgar Lindenau Aabye</td>\n",
       "      <td>Gold</td>\n",
       "    </tr>\n",
       "    <tr>\n",
       "      <th>4</th>\n",
       "      <td>Christine Jacoba Aaftink</td>\n",
       "      <td>NaN</td>\n",
       "    </tr>\n",
       "    <tr>\n",
       "      <th>...</th>\n",
       "      <td>...</td>\n",
       "      <td>...</td>\n",
       "    </tr>\n",
       "    <tr>\n",
       "      <th>95</th>\n",
       "      <td>Olav Augunson Aarnes</td>\n",
       "      <td>NaN</td>\n",
       "    </tr>\n",
       "    <tr>\n",
       "      <th>96</th>\n",
       "      <td>Mika Lauri Aarnikka</td>\n",
       "      <td>NaN</td>\n",
       "    </tr>\n",
       "    <tr>\n",
       "      <th>97</th>\n",
       "      <td>Mika Lauri Aarnikka</td>\n",
       "      <td>NaN</td>\n",
       "    </tr>\n",
       "    <tr>\n",
       "      <th>98</th>\n",
       "      <td>Jamale (Djamel-) Aarrass (Ahrass-)</td>\n",
       "      <td>NaN</td>\n",
       "    </tr>\n",
       "    <tr>\n",
       "      <th>99</th>\n",
       "      <td>Dagfinn Sverre Aarskog</td>\n",
       "      <td>NaN</td>\n",
       "    </tr>\n",
       "  </tbody>\n",
       "</table>\n",
       "<p>100 rows × 2 columns</p>\n",
       "</div>"
      ],
      "text/plain": [
       "                                  name medal\n",
       "0                            A Dijiang   NaN\n",
       "1                             A Lamusi   NaN\n",
       "2                  Gunnar Nielsen Aaby   NaN\n",
       "3                 Edgar Lindenau Aabye  Gold\n",
       "4             Christine Jacoba Aaftink   NaN\n",
       "..                                 ...   ...\n",
       "95                Olav Augunson Aarnes   NaN\n",
       "96                 Mika Lauri Aarnikka   NaN\n",
       "97                 Mika Lauri Aarnikka   NaN\n",
       "98  Jamale (Djamel-) Aarrass (Ahrass-)   NaN\n",
       "99              Dagfinn Sverre Aarskog   NaN\n",
       "\n",
       "[100 rows x 2 columns]"
      ]
     },
     "execution_count": 7,
     "metadata": {},
     "output_type": "execute_result"
    }
   ],
   "source": [
    "l=['name','medal']\n",
    "df[l]"
   ]
  },
  {
   "cell_type": "code",
   "execution_count": null,
   "id": "c22815d1-9473-4c35-858f-ad8b3bf77f58",
   "metadata": {},
   "outputs": [],
   "source": [
    "Answer C:"
   ]
  },
  {
   "cell_type": "code",
   "execution_count": 10,
   "id": "ad581730-0c3d-4c98-ab64-022c46e9e610",
   "metadata": {
    "tags": []
   },
   "outputs": [
    {
     "data": {
      "text/plain": [
       "100"
      ]
     },
     "execution_count": 10,
     "metadata": {},
     "output_type": "execute_result"
    }
   ],
   "source": [
    "df['name'].count()"
   ]
  },
  {
   "cell_type": "code",
   "execution_count": null,
   "id": "c657a87a-a15c-45c5-97ce-4d3adf953d72",
   "metadata": {},
   "outputs": [],
   "source": [
    "Answer D:"
   ]
  },
  {
   "cell_type": "code",
   "execution_count": 12,
   "id": "5b973d17-b584-4611-8fb4-d0410f64a68b",
   "metadata": {
    "tags": []
   },
   "outputs": [
    {
     "data": {
      "text/html": [
       "<div>\n",
       "<style scoped>\n",
       "    .dataframe tbody tr th:only-of-type {\n",
       "        vertical-align: middle;\n",
       "    }\n",
       "\n",
       "    .dataframe tbody tr th {\n",
       "        vertical-align: top;\n",
       "    }\n",
       "\n",
       "    .dataframe thead th {\n",
       "        text-align: right;\n",
       "    }\n",
       "</style>\n",
       "<table border=\"1\" class=\"dataframe\">\n",
       "  <thead>\n",
       "    <tr style=\"text-align: right;\">\n",
       "      <th></th>\n",
       "      <th>id</th>\n",
       "      <th>name</th>\n",
       "      <th>sex</th>\n",
       "      <th>age</th>\n",
       "      <th>height</th>\n",
       "      <th>weight</th>\n",
       "      <th>team</th>\n",
       "      <th>noc</th>\n",
       "      <th>games</th>\n",
       "      <th>year</th>\n",
       "      <th>season</th>\n",
       "      <th>city</th>\n",
       "      <th>sport</th>\n",
       "      <th>event</th>\n",
       "      <th>medal</th>\n",
       "    </tr>\n",
       "  </thead>\n",
       "  <tbody>\n",
       "    <tr>\n",
       "      <th>3</th>\n",
       "      <td>4</td>\n",
       "      <td>Edgar Lindenau Aabye</td>\n",
       "      <td>M</td>\n",
       "      <td>34</td>\n",
       "      <td>NaN</td>\n",
       "      <td>NaN</td>\n",
       "      <td>Denmark/Sweden</td>\n",
       "      <td>DEN</td>\n",
       "      <td>1900 Summer</td>\n",
       "      <td>1900</td>\n",
       "      <td>Summer</td>\n",
       "      <td>Paris</td>\n",
       "      <td>Tug-Of-War</td>\n",
       "      <td>Tug-Of-War Men's Tug-Of-War</td>\n",
       "      <td>Gold</td>\n",
       "    </tr>\n",
       "    <tr>\n",
       "      <th>42</th>\n",
       "      <td>17</td>\n",
       "      <td>Paavo Johannes Aaltonen</td>\n",
       "      <td>M</td>\n",
       "      <td>28</td>\n",
       "      <td>175.0</td>\n",
       "      <td>64.0</td>\n",
       "      <td>Finland</td>\n",
       "      <td>FIN</td>\n",
       "      <td>1948 Summer</td>\n",
       "      <td>1948</td>\n",
       "      <td>Summer</td>\n",
       "      <td>London</td>\n",
       "      <td>Gymnastics</td>\n",
       "      <td>Gymnastics Men's Team All-Around</td>\n",
       "      <td>Gold</td>\n",
       "    </tr>\n",
       "    <tr>\n",
       "      <th>44</th>\n",
       "      <td>17</td>\n",
       "      <td>Paavo Johannes Aaltonen</td>\n",
       "      <td>M</td>\n",
       "      <td>28</td>\n",
       "      <td>175.0</td>\n",
       "      <td>64.0</td>\n",
       "      <td>Finland</td>\n",
       "      <td>FIN</td>\n",
       "      <td>1948 Summer</td>\n",
       "      <td>1948</td>\n",
       "      <td>Summer</td>\n",
       "      <td>London</td>\n",
       "      <td>Gymnastics</td>\n",
       "      <td>Gymnastics Men's Horse Vault</td>\n",
       "      <td>Gold</td>\n",
       "    </tr>\n",
       "    <tr>\n",
       "      <th>48</th>\n",
       "      <td>17</td>\n",
       "      <td>Paavo Johannes Aaltonen</td>\n",
       "      <td>M</td>\n",
       "      <td>28</td>\n",
       "      <td>175.0</td>\n",
       "      <td>64.0</td>\n",
       "      <td>Finland</td>\n",
       "      <td>FIN</td>\n",
       "      <td>1948 Summer</td>\n",
       "      <td>1948</td>\n",
       "      <td>Summer</td>\n",
       "      <td>London</td>\n",
       "      <td>Gymnastics</td>\n",
       "      <td>Gymnastics Men's Pommelled Horse</td>\n",
       "      <td>Gold</td>\n",
       "    </tr>\n",
       "    <tr>\n",
       "      <th>60</th>\n",
       "      <td>20</td>\n",
       "      <td>Kjetil Andr Aamodt</td>\n",
       "      <td>M</td>\n",
       "      <td>20</td>\n",
       "      <td>176.0</td>\n",
       "      <td>85.0</td>\n",
       "      <td>Norway</td>\n",
       "      <td>NOR</td>\n",
       "      <td>1992 Winter</td>\n",
       "      <td>1992</td>\n",
       "      <td>Winter</td>\n",
       "      <td>Albertville</td>\n",
       "      <td>Alpine Skiing</td>\n",
       "      <td>Alpine Skiing Men's Super G</td>\n",
       "      <td>Gold</td>\n",
       "    </tr>\n",
       "    <tr>\n",
       "      <th>73</th>\n",
       "      <td>20</td>\n",
       "      <td>Kjetil Andr Aamodt</td>\n",
       "      <td>M</td>\n",
       "      <td>30</td>\n",
       "      <td>176.0</td>\n",
       "      <td>85.0</td>\n",
       "      <td>Norway</td>\n",
       "      <td>NOR</td>\n",
       "      <td>2002 Winter</td>\n",
       "      <td>2002</td>\n",
       "      <td>Winter</td>\n",
       "      <td>Salt Lake City</td>\n",
       "      <td>Alpine Skiing</td>\n",
       "      <td>Alpine Skiing Men's Super G</td>\n",
       "      <td>Gold</td>\n",
       "    </tr>\n",
       "    <tr>\n",
       "      <th>76</th>\n",
       "      <td>20</td>\n",
       "      <td>Kjetil Andr Aamodt</td>\n",
       "      <td>M</td>\n",
       "      <td>30</td>\n",
       "      <td>176.0</td>\n",
       "      <td>85.0</td>\n",
       "      <td>Norway</td>\n",
       "      <td>NOR</td>\n",
       "      <td>2002 Winter</td>\n",
       "      <td>2002</td>\n",
       "      <td>Winter</td>\n",
       "      <td>Salt Lake City</td>\n",
       "      <td>Alpine Skiing</td>\n",
       "      <td>Alpine Skiing Men's Combined</td>\n",
       "      <td>Gold</td>\n",
       "    </tr>\n",
       "    <tr>\n",
       "      <th>78</th>\n",
       "      <td>20</td>\n",
       "      <td>Kjetil Andr Aamodt</td>\n",
       "      <td>M</td>\n",
       "      <td>34</td>\n",
       "      <td>176.0</td>\n",
       "      <td>85.0</td>\n",
       "      <td>Norway</td>\n",
       "      <td>NOR</td>\n",
       "      <td>2006 Winter</td>\n",
       "      <td>2006</td>\n",
       "      <td>Winter</td>\n",
       "      <td>Torino</td>\n",
       "      <td>Alpine Skiing</td>\n",
       "      <td>Alpine Skiing Men's Super G</td>\n",
       "      <td>Gold</td>\n",
       "    </tr>\n",
       "    <tr>\n",
       "      <th>79</th>\n",
       "      <td>21</td>\n",
       "      <td>Ragnhild Margrethe Aamodt</td>\n",
       "      <td>F</td>\n",
       "      <td>27</td>\n",
       "      <td>163.0</td>\n",
       "      <td>NaN</td>\n",
       "      <td>Norway</td>\n",
       "      <td>NOR</td>\n",
       "      <td>2008 Summer</td>\n",
       "      <td>2008</td>\n",
       "      <td>Summer</td>\n",
       "      <td>Beijing</td>\n",
       "      <td>Handball</td>\n",
       "      <td>Handball Women's Handball</td>\n",
       "      <td>Gold</td>\n",
       "    </tr>\n",
       "  </tbody>\n",
       "</table>\n",
       "</div>"
      ],
      "text/plain": [
       "    id                       name sex  age  height  weight            team  \\\n",
       "3    4       Edgar Lindenau Aabye   M   34     NaN     NaN  Denmark/Sweden   \n",
       "42  17    Paavo Johannes Aaltonen   M   28   175.0    64.0         Finland   \n",
       "44  17    Paavo Johannes Aaltonen   M   28   175.0    64.0         Finland   \n",
       "48  17    Paavo Johannes Aaltonen   M   28   175.0    64.0         Finland   \n",
       "60  20         Kjetil Andr Aamodt   M   20   176.0    85.0          Norway   \n",
       "73  20         Kjetil Andr Aamodt   M   30   176.0    85.0          Norway   \n",
       "76  20         Kjetil Andr Aamodt   M   30   176.0    85.0          Norway   \n",
       "78  20         Kjetil Andr Aamodt   M   34   176.0    85.0          Norway   \n",
       "79  21  Ragnhild Margrethe Aamodt   F   27   163.0     NaN          Norway   \n",
       "\n",
       "    noc        games  year  season            city          sport  \\\n",
       "3   DEN  1900 Summer  1900  Summer           Paris     Tug-Of-War   \n",
       "42  FIN  1948 Summer  1948  Summer          London     Gymnastics   \n",
       "44  FIN  1948 Summer  1948  Summer          London     Gymnastics   \n",
       "48  FIN  1948 Summer  1948  Summer          London     Gymnastics   \n",
       "60  NOR  1992 Winter  1992  Winter     Albertville  Alpine Skiing   \n",
       "73  NOR  2002 Winter  2002  Winter  Salt Lake City  Alpine Skiing   \n",
       "76  NOR  2002 Winter  2002  Winter  Salt Lake City  Alpine Skiing   \n",
       "78  NOR  2006 Winter  2006  Winter          Torino  Alpine Skiing   \n",
       "79  NOR  2008 Summer  2008  Summer         Beijing       Handball   \n",
       "\n",
       "                               event medal  \n",
       "3        Tug-Of-War Men's Tug-Of-War  Gold  \n",
       "42  Gymnastics Men's Team All-Around  Gold  \n",
       "44      Gymnastics Men's Horse Vault  Gold  \n",
       "48  Gymnastics Men's Pommelled Horse  Gold  \n",
       "60       Alpine Skiing Men's Super G  Gold  \n",
       "73       Alpine Skiing Men's Super G  Gold  \n",
       "76      Alpine Skiing Men's Combined  Gold  \n",
       "78       Alpine Skiing Men's Super G  Gold  \n",
       "79         Handball Women's Handball  Gold  "
      ]
     },
     "execution_count": 12,
     "metadata": {},
     "output_type": "execute_result"
    }
   ],
   "source": [
    "df[df['medal']=='Gold']"
   ]
  },
  {
   "cell_type": "code",
   "execution_count": null,
   "id": "aefa3035-c73d-4c3b-a32c-4618726e711d",
   "metadata": {},
   "outputs": [],
   "source": [
    "Answer E:"
   ]
  },
  {
   "cell_type": "code",
   "execution_count": 14,
   "id": "05bee930-b9c0-4eca-9116-d737bc743297",
   "metadata": {
    "tags": []
   },
   "outputs": [
    {
     "data": {
      "text/html": [
       "<div>\n",
       "<style scoped>\n",
       "    .dataframe tbody tr th:only-of-type {\n",
       "        vertical-align: middle;\n",
       "    }\n",
       "\n",
       "    .dataframe tbody tr th {\n",
       "        vertical-align: top;\n",
       "    }\n",
       "\n",
       "    .dataframe thead th {\n",
       "        text-align: right;\n",
       "    }\n",
       "</style>\n",
       "<table border=\"1\" class=\"dataframe\">\n",
       "  <thead>\n",
       "    <tr style=\"text-align: right;\">\n",
       "      <th></th>\n",
       "      <th>id</th>\n",
       "      <th>name</th>\n",
       "      <th>sex</th>\n",
       "      <th>age</th>\n",
       "      <th>height</th>\n",
       "      <th>weight</th>\n",
       "      <th>team</th>\n",
       "      <th>noc</th>\n",
       "      <th>games</th>\n",
       "      <th>year</th>\n",
       "      <th>season</th>\n",
       "      <th>city</th>\n",
       "      <th>sport</th>\n",
       "      <th>event</th>\n",
       "      <th>medal</th>\n",
       "    </tr>\n",
       "  </thead>\n",
       "  <tbody>\n",
       "    <tr>\n",
       "      <th>86</th>\n",
       "      <td>25</td>\n",
       "      <td>Alf Lied Aanning</td>\n",
       "      <td>M</td>\n",
       "      <td>24</td>\n",
       "      <td>NaN</td>\n",
       "      <td>NaN</td>\n",
       "      <td>Norway</td>\n",
       "      <td>NOR</td>\n",
       "      <td>1920 Summer</td>\n",
       "      <td>1920</td>\n",
       "      <td>Summer</td>\n",
       "      <td>Antwerpen</td>\n",
       "      <td>Gymnastics</td>\n",
       "      <td>\"Gymnastics Men's Team All-Around, Free System\"</td>\n",
       "      <td>Silver</td>\n",
       "    </tr>\n",
       "    <tr>\n",
       "      <th>63</th>\n",
       "      <td>20</td>\n",
       "      <td>Kjetil Andr Aamodt</td>\n",
       "      <td>M</td>\n",
       "      <td>22</td>\n",
       "      <td>176.0</td>\n",
       "      <td>85.0</td>\n",
       "      <td>Norway</td>\n",
       "      <td>NOR</td>\n",
       "      <td>1994 Winter</td>\n",
       "      <td>1994</td>\n",
       "      <td>Winter</td>\n",
       "      <td>Lillehammer</td>\n",
       "      <td>Alpine Skiing</td>\n",
       "      <td>Alpine Skiing Men's Downhill</td>\n",
       "      <td>Silver</td>\n",
       "    </tr>\n",
       "    <tr>\n",
       "      <th>67</th>\n",
       "      <td>20</td>\n",
       "      <td>Kjetil Andr Aamodt</td>\n",
       "      <td>M</td>\n",
       "      <td>22</td>\n",
       "      <td>176.0</td>\n",
       "      <td>85.0</td>\n",
       "      <td>Norway</td>\n",
       "      <td>NOR</td>\n",
       "      <td>1994 Winter</td>\n",
       "      <td>1994</td>\n",
       "      <td>Winter</td>\n",
       "      <td>Lillehammer</td>\n",
       "      <td>Alpine Skiing</td>\n",
       "      <td>Alpine Skiing Men's Combined</td>\n",
       "      <td>Silver</td>\n",
       "    </tr>\n",
       "    <tr>\n",
       "      <th>92</th>\n",
       "      <td>30</td>\n",
       "      <td>Pepijn Aardewijn</td>\n",
       "      <td>M</td>\n",
       "      <td>26</td>\n",
       "      <td>189.0</td>\n",
       "      <td>72.0</td>\n",
       "      <td>Netherlands</td>\n",
       "      <td>NED</td>\n",
       "      <td>1996 Summer</td>\n",
       "      <td>1996</td>\n",
       "      <td>Summer</td>\n",
       "      <td>Atlanta</td>\n",
       "      <td>Rowing</td>\n",
       "      <td>Rowing Men's Lightweight Double Sculls</td>\n",
       "      <td>Silver</td>\n",
       "    </tr>\n",
       "  </tbody>\n",
       "</table>\n",
       "</div>"
      ],
      "text/plain": [
       "    id                name sex  age  height  weight         team  noc  \\\n",
       "86  25    Alf Lied Aanning   M   24     NaN     NaN       Norway  NOR   \n",
       "63  20  Kjetil Andr Aamodt   M   22   176.0    85.0       Norway  NOR   \n",
       "67  20  Kjetil Andr Aamodt   M   22   176.0    85.0       Norway  NOR   \n",
       "92  30    Pepijn Aardewijn   M   26   189.0    72.0  Netherlands  NED   \n",
       "\n",
       "          games  year  season         city          sport  \\\n",
       "86  1920 Summer  1920  Summer    Antwerpen     Gymnastics   \n",
       "63  1994 Winter  1994  Winter  Lillehammer  Alpine Skiing   \n",
       "67  1994 Winter  1994  Winter  Lillehammer  Alpine Skiing   \n",
       "92  1996 Summer  1996  Summer      Atlanta         Rowing   \n",
       "\n",
       "                                              event   medal  \n",
       "86  \"Gymnastics Men's Team All-Around, Free System\"  Silver  \n",
       "63                     Alpine Skiing Men's Downhill  Silver  \n",
       "67                     Alpine Skiing Men's Combined  Silver  \n",
       "92           Rowing Men's Lightweight Double Sculls  Silver  "
      ]
     },
     "execution_count": 14,
     "metadata": {},
     "output_type": "execute_result"
    }
   ],
   "source": [
    "df[df['medal']=='Silver'].sort_values(by='year')"
   ]
  },
  {
   "cell_type": "code",
   "execution_count": null,
   "id": "a5129302-2462-41de-a361-59a7ed12b12f",
   "metadata": {},
   "outputs": [],
   "source": [
    "Answer F:"
   ]
  },
  {
   "cell_type": "code",
   "execution_count": 22,
   "id": "ab4fc12f-097e-4c95-a1b4-c1959b053fa5",
   "metadata": {
    "tags": []
   },
   "outputs": [],
   "source": [
    "countries=list(df['team'].unique())"
   ]
  },
  {
   "cell_type": "code",
   "execution_count": 23,
   "id": "6a63c2eb-d67e-44ae-a4d8-f7f7da9437a8",
   "metadata": {
    "tags": []
   },
   "outputs": [
    {
     "data": {
      "text/plain": [
       "['China',\n",
       " 'Denmark',\n",
       " 'Denmark/Sweden',\n",
       " 'Netherlands',\n",
       " 'United States',\n",
       " 'Finland',\n",
       " 'Norway',\n",
       " 'Romania',\n",
       " 'Estonia',\n",
       " 'France']"
      ]
     },
     "execution_count": 23,
     "metadata": {},
     "output_type": "execute_result"
    }
   ],
   "source": [
    "countries"
   ]
  },
  {
   "cell_type": "code",
   "execution_count": 43,
   "id": "6eed94e8-98ed-4bd7-a8d7-29af45bb65ce",
   "metadata": {
    "tags": []
   },
   "outputs": [
    {
     "name": "stdout",
     "output_type": "stream",
     "text": [
      "China:\n",
      "0 gold medals, 0 silver medals, 0 bronze medals\n",
      "\n",
      "Denmark:\n",
      "0 gold medals, 0 silver medals, 0 bronze medals\n",
      "\n",
      "Denmark/Sweden:\n",
      "1 gold medals, 0 silver medals, 0 bronze medals\n",
      "\n",
      "Netherlands:\n",
      "0 gold medals, 1 silver medals, 1 bronze medals\n",
      "\n",
      "United States:\n",
      "0 gold medals, 0 silver medals, 0 bronze medals\n",
      "\n",
      "Finland:\n",
      "3 gold medals, 0 silver medals, 5 bronze medals\n",
      "\n",
      "Norway:\n",
      "5 gold medals, 3 silver medals, 2 bronze medals\n",
      "\n",
      "Romania:\n",
      "0 gold medals, 0 silver medals, 0 bronze medals\n",
      "\n",
      "Estonia:\n",
      "0 gold medals, 0 silver medals, 0 bronze medals\n",
      "\n",
      "France:\n",
      "0 gold medals, 0 silver medals, 0 bronze medals\n",
      "\n"
     ]
    }
   ],
   "source": [
    "for country in countries:\n",
    "    df[df['team']==country]\n",
    "    df2=df[df['team']==country]\n",
    "    gold=df2[df2['medal']=='Gold']['medal'].count()\n",
    "    silver=df2[df2['medal']=='Silver']['medal'].count()\n",
    "    bronze=df2[df2['medal']=='Bronze']['medal'].count()\n",
    "    print(f'{country}:\\n{gold} gold medals, {silver} silver medals, {bronze} bronze medals\\n')"
   ]
  },
  {
   "cell_type": "code",
   "execution_count": null,
   "id": "360c8b63-67e5-4dfa-aebb-f8cb78361a7b",
   "metadata": {},
   "outputs": [],
   "source": []
  },
  {
   "cell_type": "code",
   "execution_count": 29,
   "id": "5d0c875c-cdbd-44e1-80de-1d65d6196c26",
   "metadata": {
    "tags": []
   },
   "outputs": [],
   "source": [
    "Answer G:"
   ]
  },
  {
   "cell_type": "markdown",
   "id": "554513f9-d22b-466a-bb07-9a5b08683ae3",
   "metadata": {},
   "source": [
    "From Answer F, it's clear that no country has won more than 50 gold medals"
   ]
  },
  {
   "cell_type": "code",
   "execution_count": null,
   "id": "f7f34937-65f6-4019-998a-29cc56df6b47",
   "metadata": {},
   "outputs": [],
   "source": []
  },
  {
   "cell_type": "code",
   "execution_count": null,
   "id": "61ca918f-1ca1-4b63-a852-47f83405ad2a",
   "metadata": {},
   "outputs": [],
   "source": [
    "Answer H:"
   ]
  },
  {
   "cell_type": "code",
   "execution_count": 49,
   "id": "73f3d5e5-3151-4f59-ab7f-c696db81ac16",
   "metadata": {
    "tags": []
   },
   "outputs": [
    {
     "data": {
      "text/html": [
       "<div>\n",
       "<style scoped>\n",
       "    .dataframe tbody tr th:only-of-type {\n",
       "        vertical-align: middle;\n",
       "    }\n",
       "\n",
       "    .dataframe tbody tr th {\n",
       "        vertical-align: top;\n",
       "    }\n",
       "\n",
       "    .dataframe thead th {\n",
       "        text-align: right;\n",
       "    }\n",
       "</style>\n",
       "<table border=\"1\" class=\"dataframe\">\n",
       "  <thead>\n",
       "    <tr style=\"text-align: right;\">\n",
       "      <th></th>\n",
       "      <th>id</th>\n",
       "      <th>name</th>\n",
       "      <th>sex</th>\n",
       "      <th>age</th>\n",
       "      <th>height</th>\n",
       "      <th>weight</th>\n",
       "      <th>team</th>\n",
       "      <th>noc</th>\n",
       "      <th>games</th>\n",
       "      <th>year</th>\n",
       "      <th>season</th>\n",
       "      <th>city</th>\n",
       "      <th>sport</th>\n",
       "      <th>event</th>\n",
       "      <th>medal</th>\n",
       "    </tr>\n",
       "  </thead>\n",
       "  <tbody>\n",
       "    <tr>\n",
       "      <th>0</th>\n",
       "      <td>1</td>\n",
       "      <td>A Dijiang</td>\n",
       "      <td>M</td>\n",
       "      <td>24</td>\n",
       "      <td>180.0</td>\n",
       "      <td>80.0</td>\n",
       "      <td>China</td>\n",
       "      <td>CHN</td>\n",
       "      <td>1992 Summer</td>\n",
       "      <td>1992</td>\n",
       "      <td>Summer</td>\n",
       "      <td>Barcelona</td>\n",
       "      <td>Basketball</td>\n",
       "      <td>Basketball Men's Basketball</td>\n",
       "      <td>NaN</td>\n",
       "    </tr>\n",
       "    <tr>\n",
       "      <th>1</th>\n",
       "      <td>2</td>\n",
       "      <td>A Lamusi</td>\n",
       "      <td>M</td>\n",
       "      <td>23</td>\n",
       "      <td>170.0</td>\n",
       "      <td>60.0</td>\n",
       "      <td>China</td>\n",
       "      <td>CHN</td>\n",
       "      <td>2012 Summer</td>\n",
       "      <td>2012</td>\n",
       "      <td>Summer</td>\n",
       "      <td>London</td>\n",
       "      <td>Judo</td>\n",
       "      <td>Judo Men's Extra-Lightweight</td>\n",
       "      <td>NaN</td>\n",
       "    </tr>\n",
       "    <tr>\n",
       "      <th>2</th>\n",
       "      <td>3</td>\n",
       "      <td>Gunnar Nielsen Aaby</td>\n",
       "      <td>M</td>\n",
       "      <td>24</td>\n",
       "      <td>NaN</td>\n",
       "      <td>NaN</td>\n",
       "      <td>Denmark</td>\n",
       "      <td>DEN</td>\n",
       "      <td>1920 Summer</td>\n",
       "      <td>1920</td>\n",
       "      <td>Summer</td>\n",
       "      <td>Antwerpen</td>\n",
       "      <td>Football</td>\n",
       "      <td>Football Men's Football</td>\n",
       "      <td>NaN</td>\n",
       "    </tr>\n",
       "    <tr>\n",
       "      <th>3</th>\n",
       "      <td>4</td>\n",
       "      <td>Edgar Lindenau Aabye</td>\n",
       "      <td>M</td>\n",
       "      <td>34</td>\n",
       "      <td>NaN</td>\n",
       "      <td>NaN</td>\n",
       "      <td>Denmark/Sweden</td>\n",
       "      <td>DEN</td>\n",
       "      <td>1900 Summer</td>\n",
       "      <td>1900</td>\n",
       "      <td>Summer</td>\n",
       "      <td>Paris</td>\n",
       "      <td>Tug-Of-War</td>\n",
       "      <td>Tug-Of-War Men's Tug-Of-War</td>\n",
       "      <td>Gold</td>\n",
       "    </tr>\n",
       "    <tr>\n",
       "      <th>4</th>\n",
       "      <td>5</td>\n",
       "      <td>Christine Jacoba Aaftink</td>\n",
       "      <td>F</td>\n",
       "      <td>21</td>\n",
       "      <td>185.0</td>\n",
       "      <td>82.0</td>\n",
       "      <td>Netherlands</td>\n",
       "      <td>NED</td>\n",
       "      <td>1988 Winter</td>\n",
       "      <td>1988</td>\n",
       "      <td>Winter</td>\n",
       "      <td>Calgary</td>\n",
       "      <td>Speed Skating</td>\n",
       "      <td>Speed Skating Women's 500 metres</td>\n",
       "      <td>NaN</td>\n",
       "    </tr>\n",
       "  </tbody>\n",
       "</table>\n",
       "</div>"
      ],
      "text/plain": [
       "   id                      name sex  age  height  weight            team  noc  \\\n",
       "0   1                 A Dijiang   M   24   180.0    80.0           China  CHN   \n",
       "1   2                  A Lamusi   M   23   170.0    60.0           China  CHN   \n",
       "2   3       Gunnar Nielsen Aaby   M   24     NaN     NaN         Denmark  DEN   \n",
       "3   4      Edgar Lindenau Aabye   M   34     NaN     NaN  Denmark/Sweden  DEN   \n",
       "4   5  Christine Jacoba Aaftink   F   21   185.0    82.0     Netherlands  NED   \n",
       "\n",
       "         games  year  season       city          sport  \\\n",
       "0  1992 Summer  1992  Summer  Barcelona     Basketball   \n",
       "1  2012 Summer  2012  Summer     London           Judo   \n",
       "2  1920 Summer  1920  Summer  Antwerpen       Football   \n",
       "3  1900 Summer  1900  Summer      Paris     Tug-Of-War   \n",
       "4  1988 Winter  1988  Winter    Calgary  Speed Skating   \n",
       "\n",
       "                              event medal  \n",
       "0       Basketball Men's Basketball   NaN  \n",
       "1      Judo Men's Extra-Lightweight   NaN  \n",
       "2           Football Men's Football   NaN  \n",
       "3       Tug-Of-War Men's Tug-Of-War  Gold  \n",
       "4  Speed Skating Women's 500 metres   NaN  "
      ]
     },
     "execution_count": 49,
     "metadata": {},
     "output_type": "execute_result"
    }
   ],
   "source": [
    "df.head()"
   ]
  },
  {
   "cell_type": "code",
   "execution_count": null,
   "id": "564253a0-da8d-4ace-8308-7f0962a9ac9d",
   "metadata": {},
   "outputs": [],
   "source": [
    "There is no population column!"
   ]
  },
  {
   "cell_type": "code",
   "execution_count": null,
   "id": "fde6d34d-171b-44c7-a858-9b7b61290e4f",
   "metadata": {},
   "outputs": [],
   "source": []
  },
  {
   "cell_type": "code",
   "execution_count": null,
   "id": "4d46e014-62d4-457a-a3e4-e362f6887152",
   "metadata": {},
   "outputs": [],
   "source": [
    "Answer I"
   ]
  },
  {
   "cell_type": "code",
   "execution_count": 55,
   "id": "2c026928-e7a9-49d7-958d-7a22440f2c9e",
   "metadata": {
    "tags": []
   },
   "outputs": [],
   "source": [
    "names=list(df['name'].unique())"
   ]
  },
  {
   "cell_type": "code",
   "execution_count": 71,
   "id": "68bd3a6a-cd80-4286-8768-a743ef73239f",
   "metadata": {
    "tags": []
   },
   "outputs": [
    {
     "name": "stdout",
     "output_type": "stream",
     "text": [
      "A Dijiang: 0 medals\n",
      "\n",
      "A Lamusi: 0 medals\n",
      "\n",
      "Gunnar Nielsen Aaby: 0 medals\n",
      "\n",
      "Edgar Lindenau Aabye: 1 medals\n",
      "\n",
      "Christine Jacoba Aaftink: 0 medals\n",
      "\n",
      "Per Knut Aaland: 0 medals\n",
      "\n",
      "John Aalberg: 0 medals\n",
      "\n",
      "Cornelia \\Cor\\\" Aalten (-Strannood)\": 0 medals\n",
      "\n",
      "Antti Sami Aalto: 0 medals\n",
      "\n",
      "Einar Ferdinand \\Einari\\\" Aalto\": 0 medals\n",
      "\n",
      "Jorma Ilmari Aalto: 0 medals\n",
      "\n",
      "Jyri Tapani Aalto: 0 medals\n",
      "\n",
      "Minna Maarit Aalto: 0 medals\n",
      "\n",
      "Pirjo Hannele Aalto (Mattila-): 0 medals\n",
      "\n",
      "Arvo Ossian Aaltonen: 2 medals\n",
      "\n",
      "Juhamatti Tapio Aaltonen: 1 medals\n",
      "\n",
      "Paavo Johannes Aaltonen: 5 medals\n",
      "\n",
      "Timo Antero Aaltonen: 0 medals\n",
      "\n",
      "Win Valdemar Aaltonen: 0 medals\n",
      "\n",
      "Kjetil Andr Aamodt: 8 medals\n",
      "\n",
      "Ragnhild Margrethe Aamodt: 1 medals\n",
      "\n",
      "Andreea Aanei: 0 medals\n",
      "\n",
      "Fritz Aanes: 0 medals\n",
      "\n",
      "Nils Egil Aaness: 0 medals\n",
      "\n",
      "Alf Lied Aanning: 1 medals\n",
      "\n",
      "Agnes Erika Aanonsen (-Eyde): 0 medals\n",
      "\n",
      "Johan Aantjes: 0 medals\n",
      "\n",
      "Jan-Erik Aarberg: 0 medals\n",
      "\n",
      "Willemien Aardenburg: 1 medals\n",
      "\n",
      "Pepijn Aardewijn: 1 medals\n",
      "\n",
      "Evald rma (rman-): 0 medals\n",
      "\n",
      "Olav Augunson Aarnes: 0 medals\n",
      "\n",
      "Mika Lauri Aarnikka: 0 medals\n",
      "\n",
      "Jamale (Djamel-) Aarrass (Ahrass-): 0 medals\n",
      "\n",
      "Dagfinn Sverre Aarskog: 0 medals\n",
      "\n"
     ]
    }
   ],
   "source": [
    "athelete_medal_data=[]\n",
    "for name in names:\n",
    "    medal_count=df[df['name']==name]['medal'].count()\n",
    "    data={\n",
    "        'name':name,\n",
    "        'medal_count':medal_count\n",
    "    }\n",
    "    athelete_medal_data.append(data)\n",
    "    print(f'{name}: {medal_count} medals\\n')"
   ]
  },
  {
   "cell_type": "code",
   "execution_count": null,
   "id": "5706dedc-f4e2-44dd-b28e-297561b09eee",
   "metadata": {},
   "outputs": [],
   "source": [
    "From above its clear that Kjetil Andr Aamodt has won 8 medals"
   ]
  },
  {
   "cell_type": "code",
   "execution_count": null,
   "id": "7c0d1303-2869-4d93-aea3-e4fc3c203d61",
   "metadata": {},
   "outputs": [],
   "source": []
  },
  {
   "cell_type": "code",
   "execution_count": null,
   "id": "a2697a0f-2a83-44bd-84fd-12d411842d67",
   "metadata": {},
   "outputs": [],
   "source": [
    "Answer J:"
   ]
  },
  {
   "cell_type": "code",
   "execution_count": 81,
   "id": "a3f80893-d9ff-460d-b8e2-f41dcb5006f5",
   "metadata": {
    "tags": []
   },
   "outputs": [],
   "source": [
    "events=list(df['event'].unique())"
   ]
  },
  {
   "cell_type": "code",
   "execution_count": 83,
   "id": "21ed600c-1345-4c19-8dd2-83cb2cc1fda4",
   "metadata": {
    "tags": []
   },
   "outputs": [
    {
     "data": {
      "text/plain": [
       "[\"Basketball Men's Basketball\",\n",
       " \"Judo Men's Extra-Lightweight\",\n",
       " \"Football Men's Football\",\n",
       " \"Tug-Of-War Men's Tug-Of-War\",\n",
       " \"Speed Skating Women's 500 metres\",\n",
       " '\"Speed Skating Women\\'s 1,000 metres\"',\n",
       " \"Cross Country Skiing Men's 10 kilometres\",\n",
       " \"Cross Country Skiing Men's 50 kilometres\",\n",
       " \"Cross Country Skiing Men's 10/15 kilometres Pursuit\",\n",
       " \"Cross Country Skiing Men's 4 x 10 kilometres Relay\",\n",
       " \"Cross Country Skiing Men's 30 kilometres\",\n",
       " \"Athletics Women's 100 metres\",\n",
       " \"Athletics Women's 4 x 100 metres Relay\",\n",
       " \"Ice Hockey Men's Ice Hockey\",\n",
       " \"Swimming Men's 400 metres Freestyle\",\n",
       " \"Badminton Men's Singles\",\n",
       " \"Sailing Women's Windsurfer\",\n",
       " \"Biathlon Women's 7.5 kilometres Sprint\",\n",
       " \"Swimming Men's 200 metres Breaststroke\",\n",
       " \"Swimming Men's 400 metres Breaststroke\",\n",
       " \"Gymnastics Men's Individual All-Around\",\n",
       " \"Gymnastics Men's Team All-Around\",\n",
       " \"Gymnastics Men's Floor Exercise\",\n",
       " \"Gymnastics Men's Horse Vault\",\n",
       " \"Gymnastics Men's Parallel Bars\",\n",
       " \"Gymnastics Men's Horizontal Bar\",\n",
       " \"Gymnastics Men's Rings\",\n",
       " \"Gymnastics Men's Pommelled Horse\",\n",
       " \"Athletics Men's Shot Put\",\n",
       " '\"Art Competitions Mixed Sculpturing, Unknown Event\"',\n",
       " \"Alpine Skiing Men's Downhill\",\n",
       " \"Alpine Skiing Men's Super G\",\n",
       " \"Alpine Skiing Men's Giant Slalom\",\n",
       " \"Alpine Skiing Men's Slalom\",\n",
       " \"Alpine Skiing Men's Combined\",\n",
       " \"Handball Women's Handball\",\n",
       " \"Weightlifting Women's Super-Heavyweight\",\n",
       " '\"Wrestling Men\\'s Light-Heavyweight, Greco-Roman\"',\n",
       " \"Speed Skating Men's 500 metres\",\n",
       " '\"Speed Skating Men\\'s 1,500 metres\"',\n",
       " '\"Gymnastics Men\\'s Team All-Around, Free System\"',\n",
       " \"Luge Women's Singles\",\n",
       " \"Water Polo Men's Water Polo\",\n",
       " 'Sailing Mixed Three Person Keelboat',\n",
       " \"Hockey Women's Hockey\",\n",
       " \"Rowing Men's Lightweight Double Sculls\",\n",
       " \"Athletics Men's Pole Vault\",\n",
       " \"Athletics Men's High Jump\",\n",
       " \"Sailing Men's Two Person Dinghy\",\n",
       " '\"Athletics Men\\'s 1,500 metres\"',\n",
       " \"Bobsleigh Men's Four\"]"
      ]
     },
     "execution_count": 83,
     "metadata": {},
     "output_type": "execute_result"
    }
   ],
   "source": [
    "events"
   ]
  },
  {
   "cell_type": "code",
   "execution_count": 82,
   "id": "5537fc23-bc08-465d-a780-5d9b309f7a82",
   "metadata": {
    "tags": []
   },
   "outputs": [
    {
     "name": "stdout",
     "output_type": "stream",
     "text": [
      "Swimming Men's 400 metres Freestyle\n"
     ]
    }
   ],
   "source": [
    "for event in events:\n",
    "    if 'Freestyle' in event:\n",
    "        print(event)"
   ]
  },
  {
   "cell_type": "code",
   "execution_count": null,
   "id": "4a7d92d8-eb61-4586-bfdb-416fabdc6f11",
   "metadata": {},
   "outputs": [],
   "source": []
  },
  {
   "cell_type": "code",
   "execution_count": null,
   "id": "85d98a53-d4ec-4ce2-9958-a5ca084420f2",
   "metadata": {},
   "outputs": [],
   "source": [
    "Answer K:"
   ]
  },
  {
   "cell_type": "code",
   "execution_count": 87,
   "id": "48d22103-d1d6-40ac-b049-345d21dbef2f",
   "metadata": {
    "tags": []
   },
   "outputs": [],
   "source": [
    "sports=list(df['sport'].unique())"
   ]
  },
  {
   "cell_type": "code",
   "execution_count": 88,
   "id": "591fe7be-5c2e-4f44-a63f-2382ad08f05e",
   "metadata": {
    "tags": []
   },
   "outputs": [
    {
     "data": {
      "text/plain": [
       "['Basketball',\n",
       " 'Judo',\n",
       " 'Football',\n",
       " 'Tug-Of-War',\n",
       " 'Speed Skating',\n",
       " 'Cross Country Skiing',\n",
       " 'Athletics',\n",
       " 'Ice Hockey',\n",
       " 'Swimming',\n",
       " 'Badminton',\n",
       " 'Sailing',\n",
       " 'Biathlon',\n",
       " 'Gymnastics',\n",
       " 'Art Competitions',\n",
       " 'Alpine Skiing',\n",
       " 'Handball',\n",
       " 'Weightlifting',\n",
       " 'Wrestling',\n",
       " 'Luge',\n",
       " 'Water Polo',\n",
       " 'Hockey',\n",
       " 'Rowing',\n",
       " 'Bobsleigh']"
      ]
     },
     "execution_count": 88,
     "metadata": {},
     "output_type": "execute_result"
    }
   ],
   "source": [
    "sports"
   ]
  },
  {
   "cell_type": "code",
   "execution_count": 100,
   "id": "faff2d8c-145a-4421-a217-5e5a68b19bce",
   "metadata": {
    "tags": []
   },
   "outputs": [
    {
     "name": "stdout",
     "output_type": "stream",
     "text": [
      "Atheletes participated in Basketball are:\n",
      "A Dijiang has won 0 medals\n",
      "\n",
      "Atheletes participated in Judo are:\n",
      "A Lamusi has won 0 medals\n",
      "\n",
      "Atheletes participated in Football are:\n",
      "Gunnar Nielsen Aaby has won 0 medals\n",
      "\n",
      "Atheletes participated in Tug-Of-War are:\n",
      "Edgar Lindenau Aabye has won 1 medals\n",
      "\n",
      "Atheletes participated in Speed Skating are:\n",
      "Christine Jacoba Aaftink has won 0 medals\n",
      "\n",
      "Nils Egil Aaness has won 0 medals\n",
      "\n",
      "Atheletes participated in Cross Country Skiing are:\n",
      "Per Knut Aaland has won 0 medals\n",
      "\n",
      "John Aalberg has won 0 medals\n",
      "\n",
      "Jorma Ilmari Aalto has won 0 medals\n",
      "\n",
      "Atheletes participated in Athletics are:\n",
      "Cornelia \\Cor\\\" Aalten (-Strannood)\" has won 0 medals\n",
      "\n",
      "Timo Antero Aaltonen has won 0 medals\n",
      "\n",
      "Evald rma (rman-) has won 0 medals\n",
      "\n",
      "Olav Augunson Aarnes has won 0 medals\n",
      "\n",
      "Jamale (Djamel-) Aarrass (Ahrass-) has won 0 medals\n",
      "\n",
      "Atheletes participated in Ice Hockey are:\n",
      "Antti Sami Aalto has won 0 medals\n",
      "\n",
      "Juhamatti Tapio Aaltonen has won 1 medals\n",
      "\n",
      "Atheletes participated in Swimming are:\n",
      "Einar Ferdinand \\Einari\\\" Aalto\" has won 0 medals\n",
      "\n",
      "Arvo Ossian Aaltonen has won 2 medals\n",
      "\n",
      "Atheletes participated in Badminton are:\n",
      "Jyri Tapani Aalto has won 0 medals\n",
      "\n",
      "Atheletes participated in Sailing are:\n",
      "Minna Maarit Aalto has won 0 medals\n",
      "\n",
      "Jan-Erik Aarberg has won 0 medals\n",
      "\n",
      "Mika Lauri Aarnikka has won 0 medals\n",
      "\n",
      "Atheletes participated in Biathlon are:\n",
      "Pirjo Hannele Aalto (Mattila-) has won 0 medals\n",
      "\n",
      "Atheletes participated in Gymnastics are:\n",
      "Paavo Johannes Aaltonen has won 5 medals\n",
      "\n",
      "Alf Lied Aanning has won 1 medals\n",
      "\n",
      "Atheletes participated in Art Competitions are:\n",
      "Win Valdemar Aaltonen has won 0 medals\n",
      "\n",
      "Atheletes participated in Alpine Skiing are:\n",
      "Kjetil Andr Aamodt has won 8 medals\n",
      "\n",
      "Atheletes participated in Handball are:\n",
      "Ragnhild Margrethe Aamodt has won 1 medals\n",
      "\n",
      "Atheletes participated in Weightlifting are:\n",
      "Andreea Aanei has won 0 medals\n",
      "\n",
      "Atheletes participated in Wrestling are:\n",
      "Fritz Aanes has won 0 medals\n",
      "\n",
      "Atheletes participated in Luge are:\n",
      "Agnes Erika Aanonsen (-Eyde) has won 0 medals\n",
      "\n",
      "Atheletes participated in Water Polo are:\n",
      "Johan Aantjes has won 0 medals\n",
      "\n",
      "Atheletes participated in Hockey are:\n",
      "Willemien Aardenburg has won 1 medals\n",
      "\n",
      "Atheletes participated in Rowing are:\n",
      "Pepijn Aardewijn has won 1 medals\n",
      "\n",
      "Atheletes participated in Bobsleigh are:\n",
      "Dagfinn Sverre Aarskog has won 0 medals\n",
      "\n"
     ]
    }
   ],
   "source": [
    "for sport in sports:\n",
    "    names=list(df[df['sport']==sport]['name'].unique())\n",
    "    print(f'Atheletes participated in {sport} are:')\n",
    "    for name in names:\n",
    "        medals=df[df['name']==name]['medal'].count()\n",
    "        print(f'{name} has won {medals} medals\\n')"
   ]
  },
  {
   "cell_type": "code",
   "execution_count": null,
   "id": "3786e682-657d-40b6-96fd-0951769ffb4d",
   "metadata": {},
   "outputs": [],
   "source": []
  },
  {
   "cell_type": "code",
   "execution_count": null,
   "id": "cad0b560-0ae6-4c89-aab8-fa89ef08c3ab",
   "metadata": {},
   "outputs": [],
   "source": [
    "Answer L:"
   ]
  },
  {
   "cell_type": "code",
   "execution_count": 124,
   "id": "91ee20c8-a41f-4563-ae1a-d4ce3032fc15",
   "metadata": {
    "tags": []
   },
   "outputs": [],
   "source": [
    "years=list(df.year.unique())\n",
    "years.sort()"
   ]
  },
  {
   "cell_type": "code",
   "execution_count": 123,
   "id": "f3cb51af-6cd9-4f43-ae54-7dbdd74ede80",
   "metadata": {
    "tags": []
   },
   "outputs": [
    {
     "name": "stdout",
     "output_type": "stream",
     "text": [
      "Kjetil Andr Aamodt has won more than 1 medal in the year 1992\n",
      "\n",
      "Arvo Ossian Aaltonen has won more than 1 medal in the year 1920\n",
      "\n",
      "Kjetil Andr Aamodt has won more than 1 medal in the year 1994\n",
      "\n",
      "Kjetil Andr Aamodt has won more than 1 medal in the year 2002\n",
      "\n",
      "Paavo Johannes Aaltonen has won more than 1 medal in the year 1948\n",
      "\n"
     ]
    }
   ],
   "source": [
    "for year in years:\n",
    "    names=list(df[df['year']==year]['name'].unique())\n",
    "    df2=df[df['year']==year]\n",
    "    for name in names:\n",
    "        medals=df2[df2['name']==name]['medal'].count()\n",
    "        if medals>1:\n",
    "            print(f'{name} has won more than 1 medal in the year {year}\\n')"
   ]
  },
  {
   "cell_type": "code",
   "execution_count": null,
   "id": "eff64116-09ae-42d7-8083-6e0bda827f60",
   "metadata": {},
   "outputs": [],
   "source": []
  },
  {
   "cell_type": "code",
   "execution_count": null,
   "id": "9eed70dc-4934-414d-9b2d-d587ab165e7d",
   "metadata": {},
   "outputs": [],
   "source": [
    "Answer M:"
   ]
  },
  {
   "cell_type": "code",
   "execution_count": 137,
   "id": "6814d336-fa03-4569-b9fd-be0c5f611f39",
   "metadata": {
    "tags": []
   },
   "outputs": [
    {
     "data": {
      "text/html": [
       "<div>\n",
       "<style scoped>\n",
       "    .dataframe tbody tr th:only-of-type {\n",
       "        vertical-align: middle;\n",
       "    }\n",
       "\n",
       "    .dataframe tbody tr th {\n",
       "        vertical-align: top;\n",
       "    }\n",
       "\n",
       "    .dataframe thead th {\n",
       "        text-align: right;\n",
       "    }\n",
       "</style>\n",
       "<table border=\"1\" class=\"dataframe\">\n",
       "  <thead>\n",
       "    <tr style=\"text-align: right;\">\n",
       "      <th></th>\n",
       "      <th>id</th>\n",
       "      <th>name</th>\n",
       "      <th>sex</th>\n",
       "      <th>age</th>\n",
       "      <th>height</th>\n",
       "      <th>weight</th>\n",
       "      <th>team</th>\n",
       "      <th>noc</th>\n",
       "      <th>games</th>\n",
       "      <th>year</th>\n",
       "      <th>season</th>\n",
       "      <th>city</th>\n",
       "      <th>sport</th>\n",
       "      <th>event</th>\n",
       "      <th>medal</th>\n",
       "    </tr>\n",
       "  </thead>\n",
       "  <tbody>\n",
       "    <tr>\n",
       "      <th>3</th>\n",
       "      <td>4</td>\n",
       "      <td>Edgar Lindenau Aabye</td>\n",
       "      <td>M</td>\n",
       "      <td>34</td>\n",
       "      <td>NaN</td>\n",
       "      <td>NaN</td>\n",
       "      <td>Denmark/Sweden</td>\n",
       "      <td>DEN</td>\n",
       "      <td>1900 Summer</td>\n",
       "      <td>1900</td>\n",
       "      <td>Summer</td>\n",
       "      <td>Paris</td>\n",
       "      <td>Tug-Of-War</td>\n",
       "      <td>Tug-Of-War Men's Tug-Of-War</td>\n",
       "      <td>Gold</td>\n",
       "    </tr>\n",
       "    <tr>\n",
       "      <th>42</th>\n",
       "      <td>17</td>\n",
       "      <td>Paavo Johannes Aaltonen</td>\n",
       "      <td>M</td>\n",
       "      <td>28</td>\n",
       "      <td>175.0</td>\n",
       "      <td>64.0</td>\n",
       "      <td>Finland</td>\n",
       "      <td>FIN</td>\n",
       "      <td>1948 Summer</td>\n",
       "      <td>1948</td>\n",
       "      <td>Summer</td>\n",
       "      <td>London</td>\n",
       "      <td>Gymnastics</td>\n",
       "      <td>Gymnastics Men's Team All-Around</td>\n",
       "      <td>Gold</td>\n",
       "    </tr>\n",
       "    <tr>\n",
       "      <th>44</th>\n",
       "      <td>17</td>\n",
       "      <td>Paavo Johannes Aaltonen</td>\n",
       "      <td>M</td>\n",
       "      <td>28</td>\n",
       "      <td>175.0</td>\n",
       "      <td>64.0</td>\n",
       "      <td>Finland</td>\n",
       "      <td>FIN</td>\n",
       "      <td>1948 Summer</td>\n",
       "      <td>1948</td>\n",
       "      <td>Summer</td>\n",
       "      <td>London</td>\n",
       "      <td>Gymnastics</td>\n",
       "      <td>Gymnastics Men's Horse Vault</td>\n",
       "      <td>Gold</td>\n",
       "    </tr>\n",
       "    <tr>\n",
       "      <th>48</th>\n",
       "      <td>17</td>\n",
       "      <td>Paavo Johannes Aaltonen</td>\n",
       "      <td>M</td>\n",
       "      <td>28</td>\n",
       "      <td>175.0</td>\n",
       "      <td>64.0</td>\n",
       "      <td>Finland</td>\n",
       "      <td>FIN</td>\n",
       "      <td>1948 Summer</td>\n",
       "      <td>1948</td>\n",
       "      <td>Summer</td>\n",
       "      <td>London</td>\n",
       "      <td>Gymnastics</td>\n",
       "      <td>Gymnastics Men's Pommelled Horse</td>\n",
       "      <td>Gold</td>\n",
       "    </tr>\n",
       "    <tr>\n",
       "      <th>60</th>\n",
       "      <td>20</td>\n",
       "      <td>Kjetil Andr Aamodt</td>\n",
       "      <td>M</td>\n",
       "      <td>20</td>\n",
       "      <td>176.0</td>\n",
       "      <td>85.0</td>\n",
       "      <td>Norway</td>\n",
       "      <td>NOR</td>\n",
       "      <td>1992 Winter</td>\n",
       "      <td>1992</td>\n",
       "      <td>Winter</td>\n",
       "      <td>Albertville</td>\n",
       "      <td>Alpine Skiing</td>\n",
       "      <td>Alpine Skiing Men's Super G</td>\n",
       "      <td>Gold</td>\n",
       "    </tr>\n",
       "    <tr>\n",
       "      <th>73</th>\n",
       "      <td>20</td>\n",
       "      <td>Kjetil Andr Aamodt</td>\n",
       "      <td>M</td>\n",
       "      <td>30</td>\n",
       "      <td>176.0</td>\n",
       "      <td>85.0</td>\n",
       "      <td>Norway</td>\n",
       "      <td>NOR</td>\n",
       "      <td>2002 Winter</td>\n",
       "      <td>2002</td>\n",
       "      <td>Winter</td>\n",
       "      <td>Salt Lake City</td>\n",
       "      <td>Alpine Skiing</td>\n",
       "      <td>Alpine Skiing Men's Super G</td>\n",
       "      <td>Gold</td>\n",
       "    </tr>\n",
       "    <tr>\n",
       "      <th>76</th>\n",
       "      <td>20</td>\n",
       "      <td>Kjetil Andr Aamodt</td>\n",
       "      <td>M</td>\n",
       "      <td>30</td>\n",
       "      <td>176.0</td>\n",
       "      <td>85.0</td>\n",
       "      <td>Norway</td>\n",
       "      <td>NOR</td>\n",
       "      <td>2002 Winter</td>\n",
       "      <td>2002</td>\n",
       "      <td>Winter</td>\n",
       "      <td>Salt Lake City</td>\n",
       "      <td>Alpine Skiing</td>\n",
       "      <td>Alpine Skiing Men's Combined</td>\n",
       "      <td>Gold</td>\n",
       "    </tr>\n",
       "    <tr>\n",
       "      <th>78</th>\n",
       "      <td>20</td>\n",
       "      <td>Kjetil Andr Aamodt</td>\n",
       "      <td>M</td>\n",
       "      <td>34</td>\n",
       "      <td>176.0</td>\n",
       "      <td>85.0</td>\n",
       "      <td>Norway</td>\n",
       "      <td>NOR</td>\n",
       "      <td>2006 Winter</td>\n",
       "      <td>2006</td>\n",
       "      <td>Winter</td>\n",
       "      <td>Torino</td>\n",
       "      <td>Alpine Skiing</td>\n",
       "      <td>Alpine Skiing Men's Super G</td>\n",
       "      <td>Gold</td>\n",
       "    </tr>\n",
       "    <tr>\n",
       "      <th>79</th>\n",
       "      <td>21</td>\n",
       "      <td>Ragnhild Margrethe Aamodt</td>\n",
       "      <td>F</td>\n",
       "      <td>27</td>\n",
       "      <td>163.0</td>\n",
       "      <td>NaN</td>\n",
       "      <td>Norway</td>\n",
       "      <td>NOR</td>\n",
       "      <td>2008 Summer</td>\n",
       "      <td>2008</td>\n",
       "      <td>Summer</td>\n",
       "      <td>Beijing</td>\n",
       "      <td>Handball</td>\n",
       "      <td>Handball Women's Handball</td>\n",
       "      <td>Gold</td>\n",
       "    </tr>\n",
       "  </tbody>\n",
       "</table>\n",
       "</div>"
      ],
      "text/plain": [
       "    id                       name sex  age  height  weight            team  \\\n",
       "3    4       Edgar Lindenau Aabye   M   34     NaN     NaN  Denmark/Sweden   \n",
       "42  17    Paavo Johannes Aaltonen   M   28   175.0    64.0         Finland   \n",
       "44  17    Paavo Johannes Aaltonen   M   28   175.0    64.0         Finland   \n",
       "48  17    Paavo Johannes Aaltonen   M   28   175.0    64.0         Finland   \n",
       "60  20         Kjetil Andr Aamodt   M   20   176.0    85.0          Norway   \n",
       "73  20         Kjetil Andr Aamodt   M   30   176.0    85.0          Norway   \n",
       "76  20         Kjetil Andr Aamodt   M   30   176.0    85.0          Norway   \n",
       "78  20         Kjetil Andr Aamodt   M   34   176.0    85.0          Norway   \n",
       "79  21  Ragnhild Margrethe Aamodt   F   27   163.0     NaN          Norway   \n",
       "\n",
       "    noc        games  year  season            city          sport  \\\n",
       "3   DEN  1900 Summer  1900  Summer           Paris     Tug-Of-War   \n",
       "42  FIN  1948 Summer  1948  Summer          London     Gymnastics   \n",
       "44  FIN  1948 Summer  1948  Summer          London     Gymnastics   \n",
       "48  FIN  1948 Summer  1948  Summer          London     Gymnastics   \n",
       "60  NOR  1992 Winter  1992  Winter     Albertville  Alpine Skiing   \n",
       "73  NOR  2002 Winter  2002  Winter  Salt Lake City  Alpine Skiing   \n",
       "76  NOR  2002 Winter  2002  Winter  Salt Lake City  Alpine Skiing   \n",
       "78  NOR  2006 Winter  2006  Winter          Torino  Alpine Skiing   \n",
       "79  NOR  2008 Summer  2008  Summer         Beijing       Handball   \n",
       "\n",
       "                               event medal  \n",
       "3        Tug-Of-War Men's Tug-Of-War  Gold  \n",
       "42  Gymnastics Men's Team All-Around  Gold  \n",
       "44      Gymnastics Men's Horse Vault  Gold  \n",
       "48  Gymnastics Men's Pommelled Horse  Gold  \n",
       "60       Alpine Skiing Men's Super G  Gold  \n",
       "73       Alpine Skiing Men's Super G  Gold  \n",
       "76      Alpine Skiing Men's Combined  Gold  \n",
       "78       Alpine Skiing Men's Super G  Gold  \n",
       "79         Handball Women's Handball  Gold  "
      ]
     },
     "execution_count": 137,
     "metadata": {},
     "output_type": "execute_result"
    }
   ],
   "source": [
    "gold_df=df[df['medal']=='Gold']\n",
    "gold_df"
   ]
  },
  {
   "cell_type": "code",
   "execution_count": 134,
   "id": "62f1ee60-af03-4f0a-8dcb-a749d3a782a4",
   "metadata": {
    "tags": []
   },
   "outputs": [],
   "source": [
    "summer_countries=list(gold_df[gold_df['season']=='Summer']['team'].unique())"
   ]
  },
  {
   "cell_type": "code",
   "execution_count": 138,
   "id": "8815cf50-a73d-41e7-b87c-5920d77a29a2",
   "metadata": {
    "tags": []
   },
   "outputs": [],
   "source": [
    "winter_countries=list(gold_df[gold_df['season']=='Winter']['team'].unique())"
   ]
  },
  {
   "cell_type": "code",
   "execution_count": 139,
   "id": "48302309-6b8c-4459-93f4-2cb73d18350f",
   "metadata": {
    "tags": []
   },
   "outputs": [
    {
     "name": "stdout",
     "output_type": "stream",
     "text": [
      "Norway has won gold in both summer and winter olympics\n"
     ]
    }
   ],
   "source": [
    "for country in summer_countries:\n",
    "    if country in winter_countries:\n",
    "        print(f'{country} has won gold in both summer and winter olympics')"
   ]
  },
  {
   "cell_type": "code",
   "execution_count": null,
   "id": "110361e1-0674-4413-ba4c-3dbd6e1c52d5",
   "metadata": {},
   "outputs": [],
   "source": []
  },
  {
   "cell_type": "code",
   "execution_count": null,
   "id": "986597a3-9dea-444e-89c5-5951c79c0d54",
   "metadata": {},
   "outputs": [],
   "source": [
    "Answer S:"
   ]
  },
  {
   "cell_type": "code",
   "execution_count": 140,
   "id": "bc33df43-e38a-4fdc-8ec1-47d1bc809483",
   "metadata": {
    "tags": []
   },
   "outputs": [],
   "source": [
    "countries=df['team'].unique()"
   ]
  },
  {
   "cell_type": "code",
   "execution_count": 141,
   "id": "5575295c-42e3-453f-9d0a-d82e917e4e95",
   "metadata": {
    "tags": []
   },
   "outputs": [
    {
     "data": {
      "text/plain": [
       "array(['China', 'Denmark', 'Denmark/Sweden', 'Netherlands',\n",
       "       'United States', 'Finland', 'Norway', 'Romania', 'Estonia',\n",
       "       'France'], dtype=object)"
      ]
     },
     "execution_count": 141,
     "metadata": {},
     "output_type": "execute_result"
    }
   ],
   "source": [
    "countries"
   ]
  },
  {
   "cell_type": "code",
   "execution_count": 146,
   "id": "a09bec52-a478-42a6-b741-70737b85145c",
   "metadata": {
    "tags": []
   },
   "outputs": [
    {
     "name": "stdout",
     "output_type": "stream",
     "text": [
      "Netherlands has won medals in more than 10 different sports\n",
      "\n",
      "United States has won medals in more than 10 different sports\n",
      "\n",
      "Finland has won medals in more than 10 different sports\n",
      "\n",
      "Norway has won medals in more than 10 different sports\n",
      "\n"
     ]
    }
   ],
   "source": [
    "for country in countries:\n",
    "    sports=df[df['team']==country]['sport'].count()\n",
    "    if sports >10:\n",
    "        print(f'{country} has won medals in more than 10 different sports\\n')"
   ]
  },
  {
   "cell_type": "code",
   "execution_count": null,
   "id": "4a2c21ba-c671-4244-8dc2-ec5da3ef9f1b",
   "metadata": {},
   "outputs": [],
   "source": []
  },
  {
   "cell_type": "code",
   "execution_count": null,
   "id": "e5ab2056-5557-4cc7-b952-fb63532c11fd",
   "metadata": {},
   "outputs": [],
   "source": [
    "Answer O:"
   ]
  },
  {
   "cell_type": "code",
   "execution_count": 147,
   "id": "c5ce8185-6ffa-4308-a14b-0ea4e8043da9",
   "metadata": {
    "tags": []
   },
   "outputs": [
    {
     "data": {
      "text/plain": [
       "array(['China', 'Denmark', 'Denmark/Sweden', 'Netherlands',\n",
       "       'United States', 'Finland', 'Norway', 'Romania', 'Estonia',\n",
       "       'France'], dtype=object)"
      ]
     },
     "execution_count": 147,
     "metadata": {},
     "output_type": "execute_result"
    }
   ],
   "source": [
    "countries"
   ]
  },
  {
   "cell_type": "code",
   "execution_count": 150,
   "id": "8c94d1d9-af0a-4e48-ae3f-03836840606c",
   "metadata": {
    "tags": []
   },
   "outputs": [
    {
     "name": "stdout",
     "output_type": "stream",
     "text": [
      "The average number of medals won by China per athelete is 0.0\n",
      "\n",
      "The average number of medals won by Denmark per athelete is 0.0\n",
      "\n",
      "The average number of medals won by Denmark/Sweden per athelete is 1.0\n",
      "\n",
      "The average number of medals won by Netherlands per athelete is 0.16666666666666666\n",
      "\n",
      "The average number of medals won by United States per athelete is 0.0\n",
      "\n",
      "The average number of medals won by Finland per athelete is 0.24242424242424243\n",
      "\n",
      "The average number of medals won by Norway per athelete is 0.3125\n",
      "\n",
      "The average number of medals won by Romania per athelete is 0.0\n",
      "\n",
      "The average number of medals won by Estonia per athelete is 0.0\n",
      "\n",
      "The average number of medals won by France per athelete is 0.0\n",
      "\n"
     ]
    }
   ],
   "source": [
    "for country in countries:\n",
    "    df2=df[df['team']==country]\n",
    "    medals=df2['medal'].count()\n",
    "    names=df2['name'].count()\n",
    "    print(f'The average number of medals won by {country} per athelete is {medals/names}\\n')"
   ]
  },
  {
   "cell_type": "code",
   "execution_count": null,
   "id": "0b5c52b7-6be8-4656-8b95-fcc5f72b784f",
   "metadata": {},
   "outputs": [],
   "source": []
  }
 ],
 "metadata": {
  "kernelspec": {
   "display_name": "Python 3 (ipykernel)",
   "language": "python",
   "name": "python3"
  },
  "language_info": {
   "codemirror_mode": {
    "name": "ipython",
    "version": 3
   },
   "file_extension": ".py",
   "mimetype": "text/x-python",
   "name": "python",
   "nbconvert_exporter": "python",
   "pygments_lexer": "ipython3",
   "version": "3.11.5"
  }
 },
 "nbformat": 4,
 "nbformat_minor": 5
}
