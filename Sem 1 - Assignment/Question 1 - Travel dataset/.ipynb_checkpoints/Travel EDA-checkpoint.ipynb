{
 "cells": [
  {
   "cell_type": "code",
   "execution_count": null,
   "id": "c0793397-bd62-4a36-94dc-c1f59d931a62",
   "metadata": {},
   "outputs": [],
   "source": [
    "Answer A: Slightly right skewed"
   ]
  },
  {
   "cell_type": "code",
   "execution_count": null,
   "id": "2b74fa1b-3254-4a81-ab92-2272b87b4d2e",
   "metadata": {},
   "outputs": [],
   "source": [
    "Answer B: Self inquiry products are more popular and Company invited."
   ]
  },
  {
   "cell_type": "code",
   "execution_count": null,
   "id": "4f594025-eee2-4f20-b243-174421cebde3",
   "metadata": {},
   "outputs": [],
   "source": [
    "Answer C: There is no visible correlation."
   ]
  },
  {
   "cell_type": "code",
   "execution_count": null,
   "id": "bab5b2d1-13f0-41c2-9876-496156027a4a",
   "metadata": {},
   "outputs": [],
   "source": [
    "Answer D: The average duration of a pitch who did not purchase a product is 15.16 and purchased product is 16.81."
   ]
  },
  {
   "cell_type": "code",
   "execution_count": null,
   "id": "6d0ea769-733d-4a60-ad72-6b169d793f9f",
   "metadata": {},
   "outputs": [],
   "source": [
    "Answer E: Salaried employees purchase more products then small business then large business then free lancer."
   ]
  },
  {
   "cell_type": "code",
   "execution_count": null,
   "id": "2d41f9b0-f024-40dc-a551-17a1aa546b94",
   "metadata": {},
   "outputs": [],
   "source": [
    "Answer F: Male mostly buy all type of products while female buy mostly king type products."
   ]
  },
  {
   "cell_type": "code",
   "execution_count": null,
   "id": "49faa009-1350-42da-b6bc-bb634edf3efd",
   "metadata": {},
   "outputs": [],
   "source": [
    "Answer G: It is negatively related and people who take trips, buy less products."
   ]
  },
  {
   "cell_type": "code",
   "execution_count": null,
   "id": "b6d35c7f-29a0-4b76-8de9-4a3d7e45a86e",
   "metadata": {},
   "outputs": [],
   "source": [
    "Answer H: People with passport travel less than people without passport and people with or without passport purchase nearly same amount of products."
   ]
  },
  {
   "cell_type": "code",
   "execution_count": null,
   "id": "79734a0a-b6b3-44f2-ace1-16e6a58143a6",
   "metadata": {},
   "outputs": [],
   "source": [
    "Answer I: There is no proper relation between customer satisfaction and product purchase and customers with rating 3 tend to purchase more products."
   ]
  },
  {
   "cell_type": "code",
   "execution_count": null,
   "id": "b39b398d-b6b0-43e2-a9c4-de48015a646b",
   "metadata": {},
   "outputs": [],
   "source": [
    "Answer J: People with 1 child tend to purchase more products."
   ]
  },
  {
   "cell_type": "code",
   "execution_count": null,
   "id": "07cf1c4e-962a-41a1-b710-c01b9a86bbd7",
   "metadata": {},
   "outputs": [],
   "source": [
    "Answer K: Same as answer F."
   ]
  },
  {
   "cell_type": "code",
   "execution_count": null,
   "id": "d38e46e2-2e13-42a2-ba58-7b388859e615",
   "metadata": {},
   "outputs": [],
   "source": [
    "Answer L: Married people tend to buy more products then single then unmarried then divorced."
   ]
  },
  {
   "cell_type": "code",
   "execution_count": null,
   "id": "1add7d7d-2d92-44b1-9a8b-55a08e4aadde",
   "metadata": {},
   "outputs": [],
   "source": [
    "Answer M: Same as answer J."
   ]
  },
  {
   "cell_type": "code",
   "execution_count": null,
   "id": "19124964-8a12-4b3a-87a2-f36c16156188",
   "metadata": {},
   "outputs": [],
   "source": [
    "Answer N: People with own car tend to buy more products and travel more."
   ]
  },
  {
   "cell_type": "code",
   "execution_count": null,
   "id": "f7b1be51-1559-48e0-af73-541b810f7078",
   "metadata": {},
   "outputs": [],
   "source": [
    "Answer O: Mostly deluxe and basic products are purchased."
   ]
  }
 ],
 "metadata": {
  "kernelspec": {
   "display_name": "Python 3 (ipykernel)",
   "language": "python",
   "name": "python3"
  },
  "language_info": {
   "codemirror_mode": {
    "name": "ipython",
    "version": 3
   },
   "file_extension": ".py",
   "mimetype": "text/x-python",
   "name": "python",
   "nbconvert_exporter": "python",
   "pygments_lexer": "ipython3",
   "version": "3.11.5"
  }
 },
 "nbformat": 4,
 "nbformat_minor": 5
}
